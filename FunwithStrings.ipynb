{
 "cells": [
  {
   "cell_type": "markdown",
   "id": "15d167fa-b7c0-4f0d-bba8-911cc0faee99",
   "metadata": {},
   "source": [
    "### Fun with String methods"
   ]
  },
  {
   "cell_type": "raw",
   "id": "a657191f-f513-4be8-8ce1-2bb34c618e8c",
   "metadata": {},
   "source": [
    ".upper() - pushes all characters to upper case\n",
    ".lower() - pushes all characters to lower case\n",
    ".title() - pushes first character in each individual word to a\n",
    ".strip() - removes white space/extra padding \n",
    ".replace() - replaces characters in a string"
   ]
  },
  {
   "cell_type": "code",
   "execution_count": 29,
   "id": "3c767f0e-9505-4df8-ba15-f48272e1cce4",
   "metadata": {},
   "outputs": [
    {
     "data": {
      "text/plain": [
       "'jason'"
      ]
     },
     "execution_count": 29,
     "metadata": {},
     "output_type": "execute_result"
    }
   ],
   "source": [
    "name = \"Jason\"\n",
    "name.lower()"
   ]
  },
  {
   "cell_type": "code",
   "execution_count": 30,
   "id": "c4438e2b-4a73-49c9-bc69-06377c58bd32",
   "metadata": {},
   "outputs": [
    {
     "data": {
      "text/plain": [
       "'ABCDEFGHIJKLMNOPQRSTUVWXYZ'"
      ]
     },
     "execution_count": 30,
     "metadata": {},
     "output_type": "execute_result"
    }
   ],
   "source": [
    "alphabet = 'abcdefghijklmnopqrstuvwxyz'\n",
    "alphabet.upper()"
   ]
  },
  {
   "cell_type": "code",
   "execution_count": 31,
   "id": "cb981267-2ad5-4d9d-af1b-3dcd0774ed8a",
   "metadata": {},
   "outputs": [
    {
     "data": {
      "text/plain": [
       "'I Want To Eat Pizza Tonight.'"
      ]
     },
     "execution_count": 31,
     "metadata": {},
     "output_type": "execute_result"
    }
   ],
   "source": [
    "gobble = 'I want to eat pizza tonight.'\n",
    "gobble.title()"
   ]
  },
  {
   "cell_type": "code",
   "execution_count": 32,
   "id": "c89a5afa-06f9-42ce-9517-2f93b546907e",
   "metadata": {},
   "outputs": [
    {
     "name": "stdout",
     "output_type": "stream",
     "text": [
      "    left right \n",
      "left right\n"
     ]
    }
   ],
   "source": [
    "whitespaced = '    left right '\n",
    "print(whitespaced)\n",
    "print(whitespaced.strip())"
   ]
  },
  {
   "cell_type": "code",
   "execution_count": 22,
   "id": "f3deb13f-1522-417d-bfb7-b704e956e10b",
   "metadata": {},
   "outputs": [
    {
     "data": {
      "text/plain": [
       "'Iason'"
      ]
     },
     "execution_count": 22,
     "metadata": {},
     "output_type": "execute_result"
    }
   ],
   "source": [
    "namechange = 'Jason'\n",
    "namechange.replace('J','I')"
   ]
  },
  {
   "cell_type": "markdown",
   "id": "d6510c1b-8dfa-46c5-9541-500234ce5c3d",
   "metadata": {},
   "source": [
    "## Write a quick story"
   ]
  },
  {
   "cell_type": "code",
   "execution_count": 27,
   "id": "5d943194-1851-49cd-a21c-33339ce86893",
   "metadata": {},
   "outputs": [],
   "source": [
    "story = f'My name is {namechange} and I can tell you the whole alphabet: \"{alphabet.upper()}\". I also will tell you that {gobble}'"
   ]
  },
  {
   "cell_type": "code",
   "execution_count": 28,
   "id": "84efbbf4-47c0-4884-9bed-c393a2e3fc0d",
   "metadata": {},
   "outputs": [
    {
     "name": "stdout",
     "output_type": "stream",
     "text": [
      "My name is Jason and I can tell you the whole alphabet: \"ABCDEFGHIJKLMNOPQRSTUVWXYZ\". I also will tell you that I want to eat pizza tonight.\n"
     ]
    }
   ],
   "source": [
    "print(story)"
   ]
  },
  {
   "cell_type": "code",
   "execution_count": null,
   "id": "4ea2d343-9ced-4460-9648-f109a68dedb0",
   "metadata": {},
   "outputs": [],
   "source": []
  }
 ],
 "metadata": {
  "kernelspec": {
   "display_name": "Python 3 (ipykernel)",
   "language": "python",
   "name": "python3"
  },
  "language_info": {
   "codemirror_mode": {
    "name": "ipython",
    "version": 3
   },
   "file_extension": ".py",
   "mimetype": "text/x-python",
   "name": "python",
   "nbconvert_exporter": "python",
   "pygments_lexer": "ipython3",
   "version": "3.11.7"
  }
 },
 "nbformat": 4,
 "nbformat_minor": 5
}
